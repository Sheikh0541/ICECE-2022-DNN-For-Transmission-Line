{
 "cells": [
  {
   "cell_type": "markdown",
   "metadata": {},
   "source": [
    "## Import Libraries"
   ]
  },
  {
   "cell_type": "code",
   "execution_count": null,
   "metadata": {},
   "outputs": [],
   "source": [
    "import numpy as np\n",
    "import pandas as pd\n",
    "from sklearn.preprocessing import StandardScaler\n",
    "import tensorflow as tf \n",
    "from tensorflow import keras\n",
    "from keras import layers \n",
    "from keras import callbacks\n",
    "from sklearn.compose import make_column_transformer \n",
    "from sklearn.model_selection import ShuffleSplit, train_test_split \n",
    "from sklearn.utils import shuffle"
   ]
  },
  {
   "cell_type": "markdown",
   "metadata": {},
   "source": [
    "## Data Import"
   ]
  },
  {
   "cell_type": "code",
   "execution_count": 9,
   "metadata": {},
   "outputs": [
    {
     "data": {
      "text/html": [
       "<div>\n",
       "<style scoped>\n",
       "    .dataframe tbody tr th:only-of-type {\n",
       "        vertical-align: middle;\n",
       "    }\n",
       "\n",
       "    .dataframe tbody tr th {\n",
       "        vertical-align: top;\n",
       "    }\n",
       "\n",
       "    .dataframe thead th {\n",
       "        text-align: right;\n",
       "    }\n",
       "</style>\n",
       "<table border=\"1\" class=\"dataframe\">\n",
       "  <thead>\n",
       "    <tr style=\"text-align: right;\">\n",
       "      <th></th>\n",
       "      <th>Distance</th>\n",
       "      <th>LG</th>\n",
       "      <th>LL</th>\n",
       "      <th>LLG</th>\n",
       "      <th>LLL</th>\n",
       "      <th>Ia</th>\n",
       "      <th>Ib</th>\n",
       "      <th>Ic</th>\n",
       "      <th>Va</th>\n",
       "      <th>Vb</th>\n",
       "      <th>Vc</th>\n",
       "    </tr>\n",
       "  </thead>\n",
       "  <tbody>\n",
       "    <tr>\n",
       "      <th>331</th>\n",
       "      <td>70</td>\n",
       "      <td>0</td>\n",
       "      <td>1</td>\n",
       "      <td>0</td>\n",
       "      <td>0</td>\n",
       "      <td>723.33</td>\n",
       "      <td>1066.90</td>\n",
       "      <td>958.17</td>\n",
       "      <td>36367</td>\n",
       "      <td>34584</td>\n",
       "      <td>35189</td>\n",
       "    </tr>\n",
       "    <tr>\n",
       "      <th>84</th>\n",
       "      <td>10</td>\n",
       "      <td>0</td>\n",
       "      <td>0</td>\n",
       "      <td>0</td>\n",
       "      <td>1</td>\n",
       "      <td>2611.00</td>\n",
       "      <td>2611.00</td>\n",
       "      <td>2611.00</td>\n",
       "      <td>29483</td>\n",
       "      <td>29483</td>\n",
       "      <td>29483</td>\n",
       "    </tr>\n",
       "    <tr>\n",
       "      <th>436</th>\n",
       "      <td>65</td>\n",
       "      <td>0</td>\n",
       "      <td>0</td>\n",
       "      <td>1</td>\n",
       "      <td>0</td>\n",
       "      <td>729.26</td>\n",
       "      <td>890.22</td>\n",
       "      <td>923.07</td>\n",
       "      <td>36331</td>\n",
       "      <td>35556</td>\n",
       "      <td>35364</td>\n",
       "    </tr>\n",
       "    <tr>\n",
       "      <th>394</th>\n",
       "      <td>85</td>\n",
       "      <td>0</td>\n",
       "      <td>1</td>\n",
       "      <td>0</td>\n",
       "      <td>0</td>\n",
       "      <td>723.38</td>\n",
       "      <td>889.27</td>\n",
       "      <td>831.72</td>\n",
       "      <td>36365</td>\n",
       "      <td>35505</td>\n",
       "      <td>35769</td>\n",
       "    </tr>\n",
       "    <tr>\n",
       "      <th>161</th>\n",
       "      <td>85</td>\n",
       "      <td>0</td>\n",
       "      <td>0</td>\n",
       "      <td>0</td>\n",
       "      <td>1</td>\n",
       "      <td>810.51</td>\n",
       "      <td>810.51</td>\n",
       "      <td>810.51</td>\n",
       "      <td>35907</td>\n",
       "      <td>35906</td>\n",
       "      <td>35907</td>\n",
       "    </tr>\n",
       "  </tbody>\n",
       "</table>\n",
       "</div>"
      ],
      "text/plain": [
       "     Distance  LG  LL  LLG  LLL       Ia       Ib       Ic     Va     Vb  \\\n",
       "331        70   0   1    0    0   723.33  1066.90   958.17  36367  34584   \n",
       "84         10   0   0    0    1  2611.00  2611.00  2611.00  29483  29483   \n",
       "436        65   0   0    1    0   729.26   890.22   923.07  36331  35556   \n",
       "394        85   0   1    0    0   723.38   889.27   831.72  36365  35505   \n",
       "161        85   0   0    0    1   810.51   810.51   810.51  35907  35906   \n",
       "\n",
       "        Vc  \n",
       "331  35189  \n",
       "84   29483  \n",
       "436  35364  \n",
       "394  35769  \n",
       "161  35907  "
      ]
     },
     "execution_count": 9,
     "metadata": {},
     "output_type": "execute_result"
    }
   ],
   "source": [
    "LineData = pd.read_csv(\"../Data/DataLine1.csv\")\n",
    "# LineData = pd.read_csv(\"../Data/DataLine2.csv\")\n",
    "# LineData = pd.read_csv(\"../Data/DataLine3.csv\") \n",
    "\n",
    "# Shuffling\n",
    "LineData_suffled = shuffle(LineData, random_state = 2)\n",
    "LineData_suffled.head()"
   ]
  },
  {
   "cell_type": "markdown",
   "metadata": {},
   "source": [
    "## Feature Selection"
   ]
  },
  {
   "cell_type": "code",
   "execution_count": 10,
   "metadata": {},
   "outputs": [],
   "source": [
    "features_col = [\"Ia\", \"Ib\", \"Ic\", \"Va\", \"Vb\", \"Vc\"] \n",
    "target_col = [\"Distance\"]\n",
    "X = LineData_suffled[features_col] \n",
    "Y = LineData_suffled[target_col] "
   ]
  },
  {
   "cell_type": "markdown",
   "metadata": {},
   "source": [
    "## Feature Normalization"
   ]
  },
  {
   "cell_type": "code",
   "execution_count": 11,
   "metadata": {},
   "outputs": [],
   "source": [
    "scalling = StandardScaler()\n",
    "X_scalled = scalling.fit_transform(X, Y) "
   ]
  },
  {
   "cell_type": "markdown",
   "metadata": {},
   "source": [
    "## Dataset Splitting "
   ]
  },
  {
   "cell_type": "code",
   "execution_count": 12,
   "metadata": {},
   "outputs": [],
   "source": [
    "x_train, x_val, y_train, y_val  = train_test_split(X_scalled, Y, test_size=0.15, random_state=10) "
   ]
  },
  {
   "cell_type": "markdown",
   "metadata": {},
   "source": [
    "## Model Design"
   ]
  },
  {
   "cell_type": "code",
   "execution_count": 18,
   "metadata": {},
   "outputs": [],
   "source": [
    "Dis_model = keras.Sequential([\n",
    "    layers.Dense(60, activation='relu', input_shape=[6]), \n",
    "    layers.BatchNormalization(),\n",
    "    layers.Dense(100, activation='tanh'), \n",
    "    layers.BatchNormalization(),\n",
    "    layers.Dense(80, activation='relu'),\n",
    "    layers.BatchNormalization(),  \n",
    "    layers.Dense(80, activation='relu'), \n",
    "    layers.Dense(1) \n",
    "])\n",
    "\n",
    "\n",
    "Dis_model.compile(\n",
    "    optimizer = 'adam',\n",
    "    loss = 'mae',\n",
    ")"
   ]
  },
  {
   "cell_type": "markdown",
   "metadata": {},
   "source": [
    "## Training"
   ]
  },
  {
   "cell_type": "code",
   "execution_count": null,
   "metadata": {},
   "outputs": [],
   "source": [
    "history = Dis_model.fit(\n",
    "    x_train, y_train,\n",
    "    validation_data = (x_val, y_val),\n",
    "    batch_size = 120,  \n",
    "    epochs = 1000,\n",
    ")"
   ]
  },
  {
   "cell_type": "markdown",
   "metadata": {},
   "source": [
    "## Training History"
   ]
  },
  {
   "cell_type": "code",
   "execution_count": null,
   "metadata": {},
   "outputs": [],
   "source": [
    "history_df = pd.DataFrame(history.history)\n",
    "history_df.loc[:, ['loss', 'val_loss']].plot()\n",
    "print(\"Minimum Train Loss: {}\".format(history_df['loss'].min()))\n",
    "print(\"Minimum Validation Loss: {}\".format(history_df['val_loss'].min()))"
   ]
  },
  {
   "cell_type": "markdown",
   "metadata": {},
   "source": [
    "## Prediction on Validation Data"
   ]
  },
  {
   "cell_type": "code",
   "execution_count": null,
   "metadata": {},
   "outputs": [],
   "source": [
    "\n",
    "y_pred = Dis_model.predict(x_val)\n",
    "y_val_series = y_val.squeeze()\n",
    "y_pred_series = y_pred.squeeze()\n",
    "comparison = pd.DataFrame({\n",
    "    \"True\": np.array(y_val_series), \n",
    "    \"Predicted\": np.array(y_pred_series)  \n",
    "})"
   ]
  },
  {
   "cell_type": "code",
   "execution_count": null,
   "metadata": {},
   "outputs": [],
   "source": [
    "# Showing the True values and Predicted values on Validation data\n",
    "comparison.head()"
   ]
  }
 ],
 "metadata": {
  "kernelspec": {
   "display_name": "Python 3",
   "language": "python",
   "name": "python3"
  },
  "language_info": {
   "codemirror_mode": {
    "name": "ipython",
    "version": 3
   },
   "file_extension": ".py",
   "mimetype": "text/x-python",
   "name": "python",
   "nbconvert_exporter": "python",
   "pygments_lexer": "ipython3",
   "version": "3.10.11"
  },
  "orig_nbformat": 4,
  "vscode": {
   "interpreter": {
    "hash": "ea3bc4447bd6cba55cdf9eaaee12c649a8a0a3c578f041a6381858bf23126293"
   }
  }
 },
 "nbformat": 4,
 "nbformat_minor": 2
}
